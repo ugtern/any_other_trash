{
 "cells": [
  {
   "cell_type": "code",
   "execution_count": 2,
   "metadata": {},
   "outputs": [
    {
     "ename": "ModuleNotFoundError",
     "evalue": "No module named 'selenium'",
     "output_type": "error",
     "traceback": [
      "\u001b[1;31m---------------------------------------------------------------------------\u001b[0m",
      "\u001b[1;31mModuleNotFoundError\u001b[0m                       Traceback (most recent call last)",
      "\u001b[1;32m<ipython-input-2-cf80e1bb0e0d>\u001b[0m in \u001b[0;36m<module>\u001b[1;34m()\u001b[0m\n\u001b[1;32m----> 1\u001b[1;33m \u001b[1;32mfrom\u001b[0m \u001b[0mselenium\u001b[0m \u001b[1;32mimport\u001b[0m \u001b[0mwebdriver\u001b[0m\u001b[1;33m\u001b[0m\u001b[0m\n\u001b[0m\u001b[0;32m      2\u001b[0m \u001b[1;32mfrom\u001b[0m \u001b[0mselenium\u001b[0m\u001b[1;33m.\u001b[0m\u001b[0mcommon\u001b[0m\u001b[1;33m.\u001b[0m\u001b[0mexceptions\u001b[0m \u001b[1;32mimport\u001b[0m \u001b[0mNoSuchElementException\u001b[0m \u001b[1;32mas\u001b[0m \u001b[0mNSEE\u001b[0m\u001b[1;33m\u001b[0m\u001b[0m\n\u001b[0;32m      3\u001b[0m \u001b[1;32mfrom\u001b[0m \u001b[0mdatetime\u001b[0m \u001b[1;32mimport\u001b[0m \u001b[0mdatetime\u001b[0m\u001b[1;33m\u001b[0m\u001b[0m\n\u001b[0;32m      4\u001b[0m \u001b[1;32mimport\u001b[0m \u001b[0mtime\u001b[0m\u001b[1;33m\u001b[0m\u001b[0m\n\u001b[0;32m      5\u001b[0m \u001b[1;33m\u001b[0m\u001b[0m\n",
      "\u001b[1;31mModuleNotFoundError\u001b[0m: No module named 'selenium'"
     ]
    }
   ],
   "source": [
    "from selenium import webdriver\n",
    "from selenium.common.exceptions import NoSuchElementException as NSEE\n",
    "from datetime import datetime\n",
    "import time\n",
    "\n",
    "\n",
    "driver = webdriver.Chrome('C:\\\\chromedriver.exe')\n",
    "driver.get(\"https://olymptrade.com/\")\n",
    "\n",
    "time.sleep(5)\n",
    "driver.find_element_by_xpath('//*[@id=\"page-container\"]/section[1]/div/div[2]/div[1]/div[1]/div/div[1]/header/div/div[1]').click()\n",
    "time.sleep(2)\n",
    "driver.find_element_by_xpath('//*[@id=\"page-container\"]/section[1]/div/div[2]/div[1]/div[1]/div/div[2]/div/form/div[1]/input').send_keys('lolkick@mail.ru')\n",
    "driver.find_element_by_xpath('//*[@id=\"page-container\"]/section[1]/div/div[2]/div[1]/div[1]/div/div[2]/div/form/div[2]/input').send_keys('lolkickkicklol')\n",
    "driver.find_element_by_xpath('//*[@id=\"page-container\"]/section[1]/div/div[2]/div[1]/div[1]/div/div[2]/div/form/div[4]/button').click()\n",
    "time.sleep(10)\n",
    "\n",
    "kurs = driver.find_element_by_xpath('//*[@id=\"deal_controls\"]/div/div[2]/div[2]/div/div/div[2]/button/span[2]').text\n",
    "mnenie = driver.find_element_by_xpath('//*[@id=\"chart\"]/div/div[1]/div[3]').text\n",
    "mnenie = mnenie.replace('%', '')\n",
    "\n",
    "f = open(our_file, 'a')\n",
    "now = datetime.strftime(datetime.now(), \"%Y.%m.%d %H:%M:%S\")\n",
    "f.write(now+': '+str(kurs)+': '+str(mnenie)+'\\n')\n",
    "f.close()"
   ]
  },
  {
   "cell_type": "code",
   "execution_count": null,
   "metadata": {},
   "outputs": [],
   "source": []
  }
 ],
 "metadata": {
  "kernelspec": {
   "display_name": "Python 3",
   "language": "python",
   "name": "python3"
  },
  "language_info": {
   "codemirror_mode": {
    "name": "ipython",
    "version": 3
   },
   "file_extension": ".py",
   "mimetype": "text/x-python",
   "name": "python",
   "nbconvert_exporter": "python",
   "pygments_lexer": "ipython3",
   "version": "3.6.5"
  }
 },
 "nbformat": 4,
 "nbformat_minor": 2
}
