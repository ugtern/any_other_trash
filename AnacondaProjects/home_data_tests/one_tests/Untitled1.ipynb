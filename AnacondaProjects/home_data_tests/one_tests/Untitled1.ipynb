{
 "cells": [
  {
   "cell_type": "code",
   "execution_count": null,
   "metadata": {},
   "outputs": [],
   "source": [
    "a = 13.988*60*60\n",
    "b = (10237-7887)/7887\n",
    "price_first = 10237\n",
    "price_secound = 18564\n",
    "def generate(price_first,price_secound,per_h=13.988,percant=0.30,money=0,iterat=0):\n",
    "    while per_h<1000000:\n",
    "        if money<price_first:\n",
    "            money+=per_h\n",
    "            iterat+=1\n",
    "            print(iterat,money,per_h)\n",
    "        elif money>=price_first and price_first<=price_secound/2:\n",
    "            money = money-price_first\n",
    "            price_first = price_first*percant\n",
    "            per_h = per_h+0.5\n",
    "            iterat+=1\n",
    "            print(iterat,money,per_h)\n",
    "        elif money>=price_secound and price_first>price_secound/2:\n",
    "            money = money-price_secound\n",
    "            price_secound = price_secound*percant\n",
    "            per_h = per_h+1\n",
    "            iterat+=1\n",
    "            print(iterat,money,per_h)\n",
    "            \n",
    "    print(iterat)\n",
    "        \n",
    "generate(price_first, price_secound)"
   ]
  }
 ],
 "metadata": {
  "kernelspec": {
   "display_name": "Python 3",
   "language": "python",
   "name": "python3"
  },
  "language_info": {
   "codemirror_mode": {
    "name": "ipython",
    "version": 3
   },
   "file_extension": ".py",
   "mimetype": "text/x-python",
   "name": "python",
   "nbconvert_exporter": "python",
   "pygments_lexer": "ipython3",
   "version": "3.7.1"
  }
 },
 "nbformat": 4,
 "nbformat_minor": 2
}
