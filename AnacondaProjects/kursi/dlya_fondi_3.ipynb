{
 "cells": [
  {
   "cell_type": "code",
   "execution_count": 14,
   "metadata": {},
   "outputs": [],
   "source": [
    "import numpy as np\n",
    "import pandas as pd\n",
    "import datetime\n",
    "import csv\n",
    "import matplotlib.pyplot as plt"
   ]
  },
  {
   "cell_type": "code",
   "execution_count": 32,
   "metadata": {},
   "outputs": [
    {
     "name": "stdout",
     "output_type": "stream",
     "text": [
      "                       Open    High     Low   Close   Volume\n",
      "Data       Time                                             \n",
      "2018-12-21 10:00:00  1.1553  1.1590  1.1541  1.1547   1257.0\n",
      "2018-12-21 10:05:00  1.1549  1.1552  1.1547  1.1549    303.0\n",
      "2018-12-21 10:10:00  1.1547  1.1547  1.1543  1.1545    464.0\n",
      "2018-12-21 10:15:00  1.1544  1.1545  1.1541  1.1545    466.0\n",
      "2018-12-21 10:20:00  1.1544  1.1549  1.1544  1.1547   3038.0\n",
      "2018-12-21 10:25:00  1.1547  1.1548  1.1545  1.1546    578.0\n",
      "2018-12-21 10:30:00  1.1546  1.1549  1.1546  1.1548   1241.0\n",
      "2018-12-21 10:35:00  1.1549  1.1554  1.1549  1.1552   1257.0\n",
      "2018-12-21 10:40:00  1.1551  1.1556  1.1549  1.1555    966.0\n",
      "2018-12-21 10:45:00  1.1557  1.1558  1.1554  1.1555   1595.0\n",
      "2018-12-21 10:50:00  1.1555  1.1555  1.1551  1.1551   3229.0\n",
      "2018-12-21 10:55:00  1.1551  1.1551  1.1549  1.1551   1717.0\n",
      "2018-12-21 11:00:00  1.1552  1.1553  1.1547  1.1547   7163.0\n",
      "2018-12-21 11:05:00  1.1549  1.1555  1.1549  1.1553  10666.0\n",
      "2018-12-21 11:10:00  1.1553  1.1555  1.1551  1.1554   1808.0\n",
      "2018-12-21 11:15:00  1.1554  1.1556  1.1553  1.1556   4526.0\n",
      "2018-12-21 11:20:00  1.1554  1.1556  1.1553  1.1553   3809.0\n",
      "2018-12-21 11:25:00  1.1553  1.1554  1.1551  1.1554   8138.0\n",
      "2018-12-21 11:30:00  1.1554  1.1554  1.1551  1.1551   1481.0\n",
      "2018-12-21 11:35:00  1.1552  1.1552  1.1546  1.1546  19143.0\n",
      "2018-12-21 11:40:00  1.1546  1.1546  1.1536  1.1539   7725.0\n",
      "2018-12-21 11:45:00  1.1544  1.1546  1.1541  1.1542    392.0\n",
      "2018-12-21 11:50:00  1.1542  1.1542  1.1539  1.1540   2034.0\n",
      "2018-12-21 11:55:00  1.1539  1.1539  1.1527  1.1528   8985.0\n",
      "2018-12-21 12:00:00  1.1529  1.1530  1.1516  1.1517   5216.0\n",
      "2018-12-21 12:05:00  1.1515  1.1517  1.1510  1.1513   4400.0\n",
      "2018-12-21 12:10:00  1.1514  1.1519  1.1511  1.1515   4848.0\n",
      "2018-12-21 12:15:00  1.1515  1.1515  1.1512  1.1513    632.0\n",
      "2018-12-21 12:20:00  1.1515  1.1516  1.1499  1.1500  15845.0\n",
      "2018-12-21 12:25:00  1.1499  1.1509  1.1497  1.1505   6110.0\n",
      "...                     ...     ...     ...     ...      ...\n",
      "2019-01-23 10:15:00  1.1425  1.1426  1.1424  1.1424    430.0\n",
      "2019-01-23 10:20:00  1.1423  1.1423  1.1421  1.1421   4058.0\n",
      "2019-01-23 10:25:00  1.1421  1.1424  1.1421  1.1421   2697.0\n",
      "2019-01-23 10:30:00  1.1421  1.1425  1.1421  1.1424    556.0\n",
      "2019-01-23 10:35:00  1.1424  1.1425  1.1422  1.1423   1120.0\n",
      "2019-01-23 10:40:00  1.1422  1.1423  1.1421  1.1423    590.0\n",
      "2019-01-23 10:45:00  1.1422  1.1423  1.1420  1.1420   2965.0\n",
      "2019-01-23 10:50:00  1.1421  1.1422  1.1418  1.1421   1591.0\n",
      "2019-01-23 10:55:00  1.1421  1.1421  1.1419  1.1420    373.0\n",
      "2019-01-23 11:00:00  1.1420  1.1420  1.1414  1.1415   4910.0\n",
      "2019-01-23 11:05:00  1.1414  1.1415  1.1411  1.1412   2750.0\n",
      "2019-01-23 11:10:00  1.1411  1.1413  1.1411  1.1412    347.0\n",
      "2019-01-23 11:15:00  1.1414  1.1415  1.1411  1.1414   4166.0\n",
      "2019-01-23 11:20:00  1.1414  1.1418  1.1413  1.1418   2445.0\n",
      "2019-01-23 11:25:00  1.1416  1.1418  1.1414  1.1415    456.0\n",
      "2019-01-23 11:30:00  1.1413  1.1416  1.1413  1.1415    245.0\n",
      "2019-01-23 11:35:00  1.1414  1.1420  1.1414  1.1420   1362.0\n",
      "2019-01-23 11:40:00  1.1419  1.1419  1.1416  1.1419    319.0\n",
      "2019-01-23 11:45:00  1.1419  1.1419  1.1416  1.1418   1524.0\n",
      "2019-01-23 11:50:00  1.1417  1.1419  1.1417  1.1418    244.0\n",
      "2019-01-23 11:55:00  1.1418  1.1419  1.1416  1.1418    643.0\n",
      "2019-01-23 12:00:00  1.1419  1.1420  1.1419  1.1419   1301.0\n",
      "2019-01-23 12:05:00  1.1420  1.1421  1.1418  1.1418   1499.0\n",
      "2019-01-23 12:10:00  1.1417  1.1419  1.1416  1.1418    287.0\n",
      "2019-01-23 12:15:00  1.1418  1.1418  1.1417  1.1417    344.0\n",
      "2019-01-23 12:20:00  1.1416  1.1417  1.1415  1.1417   1405.0\n",
      "2019-01-23 12:25:00  1.1418  1.1420  1.1417  1.1417   1747.0\n",
      "2019-01-23 12:30:00  1.1415  1.1416  1.1414  1.1414   2175.0\n",
      "2019-01-23 12:35:00  1.1414  1.1417  1.1413  1.1416    868.0\n",
      "2019-01-23 12:40:00  1.1416  1.1418  1.1416  1.1417     32.0\n",
      "\n",
      "[2735 rows x 5 columns]\n"
     ]
    }
   ],
   "source": [
    "fail = open('EDH9_Price.txt', 'r')\n",
    "i =0   #счетчик номера строки \n",
    "spisok_Datatime = []\n",
    "spisok_Open     = []\n",
    "spisok_High     = []\n",
    "spisok_Low      = []\n",
    "spisok_Close    = []\n",
    "spisok_Volume   = [] # заготовки под списки данных\n",
    "for stroka in fail:\n",
    "    stroka = stroka[:len(stroka)-1] #убираем \\n из конца строки\n",
    "    stroka_split = stroka.split(',') #разбиваем строку по запятым\n",
    "    if i>0: # пропускаем заглавную строчку\n",
    "        spisok_datatime = [] # заготока под список материала для дата-время\n",
    "        for j in range(2,9):\n",
    "            if j==2:\n",
    "                spisok_datatime.append(int(stroka_split[j][:4]))  #\n",
    "                spisok_datatime.append(int(stroka_split[j][4:6])) #\n",
    "                spisok_datatime.append(int(stroka_split[j][6:8])) # материал для даты\n",
    "            elif j==3:\n",
    "                spisok_datatime.append(int(stroka_split[j][:2]))  #\n",
    "                spisok_datatime.append(int(stroka_split[j][2:4])) #\n",
    "                spisok_datatime.append(int(stroka_split[j][4:]))  # материал для времени\n",
    "                spisok_Datatime.append(datetime.datetime(spisok_datatime[0],spisok_datatime[1],spisok_datatime[2],spisok_datatime[3],spisok_datatime[4],spisok_datatime[5])) # получение и запись дата-времени\n",
    "            x = float(stroka_split[j]) # копирование куска строки между запятыми \n",
    "            if   j==4: spisok_Open.append  (x) #\n",
    "            elif j==5: spisok_High.append  (x) #\n",
    "            elif j==6: spisok_Low.append   (x) #\n",
    "            elif j==7: spisok_Close.append (x) #\n",
    "            elif j==8: spisok_Volume.append(x) # пополние списков кусками строк\n",
    "    i+=1 # +1 счетчику номера строки \n",
    "Df = pd.DataFrame({'Open':np.array(spisok_Open), 'High':np.array(spisok_High), 'Low':np.array(spisok_Low), 'Close':np.array(spisok_Close), 'Volume':np.array(spisok_Volume)}, index=spisok_Datatime)\n",
    "Df.index.names = ['Data       Time']\n",
    "start_time = str(spisok_Datatime[0]).replace(':','.')                    #\n",
    "end_time = str(spisok_Datatime[len(spisok_Datatime)-1]).replace(':','.') # замена символа, чтобы можно было сохранить в названии файла\n",
    "name_of_Dataframe = str(stroka_split[0])+',M'+str(stroka_split[1]+','+start_time+','+end_time)   # имя таблицы содержит: Имя актива,таимфреим,дата-время начала,дата-время конца\n",
    "\n",
    "print (Df)"
   ]
  },
  {
   "cell_type": "code",
   "execution_count": 18,
   "metadata": {},
   "outputs": [],
   "source": [
    "Df.to_csv(name_of_Dataframe+'.csv') # сохраняем таблицу в 'имя таблицы.csv'"
   ]
  },
  {
   "cell_type": "code",
   "execution_count": 20,
   "metadata": {},
   "outputs": [
    {
     "data": {
      "text/html": [
       "<div>\n",
       "<style scoped>\n",
       "    .dataframe tbody tr th:only-of-type {\n",
       "        vertical-align: middle;\n",
       "    }\n",
       "\n",
       "    .dataframe tbody tr th {\n",
       "        vertical-align: top;\n",
       "    }\n",
       "\n",
       "    .dataframe thead th {\n",
       "        text-align: right;\n",
       "    }\n",
       "</style>\n",
       "<table border=\"1\" class=\"dataframe\">\n",
       "  <thead>\n",
       "    <tr style=\"text-align: right;\">\n",
       "      <th></th>\n",
       "      <th>Open</th>\n",
       "      <th>High</th>\n",
       "      <th>Low</th>\n",
       "      <th>Close</th>\n",
       "      <th>Volume</th>\n",
       "    </tr>\n",
       "    <tr>\n",
       "      <th>Data       Time</th>\n",
       "      <th></th>\n",
       "      <th></th>\n",
       "      <th></th>\n",
       "      <th></th>\n",
       "      <th></th>\n",
       "    </tr>\n",
       "  </thead>\n",
       "  <tbody>\n",
       "    <tr>\n",
       "      <th>2018-12-21 10:00:00</th>\n",
       "      <td>1.1553</td>\n",
       "      <td>1.1590</td>\n",
       "      <td>1.1541</td>\n",
       "      <td>1.1547</td>\n",
       "      <td>1257.0</td>\n",
       "    </tr>\n",
       "    <tr>\n",
       "      <th>2018-12-21 10:05:00</th>\n",
       "      <td>1.1549</td>\n",
       "      <td>1.1552</td>\n",
       "      <td>1.1547</td>\n",
       "      <td>1.1549</td>\n",
       "      <td>303.0</td>\n",
       "    </tr>\n",
       "    <tr>\n",
       "      <th>2018-12-21 10:10:00</th>\n",
       "      <td>1.1547</td>\n",
       "      <td>1.1547</td>\n",
       "      <td>1.1543</td>\n",
       "      <td>1.1545</td>\n",
       "      <td>464.0</td>\n",
       "    </tr>\n",
       "    <tr>\n",
       "      <th>2018-12-21 10:15:00</th>\n",
       "      <td>1.1544</td>\n",
       "      <td>1.1545</td>\n",
       "      <td>1.1541</td>\n",
       "      <td>1.1545</td>\n",
       "      <td>466.0</td>\n",
       "    </tr>\n",
       "    <tr>\n",
       "      <th>2018-12-21 10:20:00</th>\n",
       "      <td>1.1544</td>\n",
       "      <td>1.1549</td>\n",
       "      <td>1.1544</td>\n",
       "      <td>1.1547</td>\n",
       "      <td>3038.0</td>\n",
       "    </tr>\n",
       "  </tbody>\n",
       "</table>\n",
       "</div>"
      ],
      "text/plain": [
       "                       Open    High     Low   Close  Volume\n",
       "Data       Time                                            \n",
       "2018-12-21 10:00:00  1.1553  1.1590  1.1541  1.1547  1257.0\n",
       "2018-12-21 10:05:00  1.1549  1.1552  1.1547  1.1549   303.0\n",
       "2018-12-21 10:10:00  1.1547  1.1547  1.1543  1.1545   464.0\n",
       "2018-12-21 10:15:00  1.1544  1.1545  1.1541  1.1545   466.0\n",
       "2018-12-21 10:20:00  1.1544  1.1549  1.1544  1.1547  3038.0"
      ]
     },
     "execution_count": 20,
     "metadata": {},
     "output_type": "execute_result"
    }
   ],
   "source": [
    "Df.head()"
   ]
  },
  {
   "cell_type": "code",
   "execution_count": 28,
   "metadata": {},
   "outputs": [
    {
     "name": "stdout",
     "output_type": "stream",
     "text": [
      "1.1492488482632517 1.1622 1.1398\n"
     ]
    },
    {
     "data": {
      "image/png": "[encoded data removed]",
      "text/plain": [
       "<Figure size 432x288 with 1 Axes>"
      ]
     },
     "metadata": {},
     "output_type": "display_data"
    }
   ],
   "source": [
    "a = Df.Close.mean()\n",
    "a1 = Df.Close.max()\n",
    "a2 = Df.Close.min()\n",
    "\n",
    "plt.plot(Df.Open)\n",
    "plt.plot(Df.Close)\n",
    "\n",
    "print(a,a1,a2)"
   ]
  },
  {
   "cell_type": "code",
   "execution_count": 35,
   "metadata": {},
   "outputs": [
    {
     "ename": "UnicodeDecodeError",
     "evalue": "'charmap' codec can't decode byte 0x98 in position 821: character maps to <undefined>",
     "output_type": "error",
     "traceback": [
      "\u001b[1;31m---------------------------------------------------------------------------\u001b[0m",
      "\u001b[1;31mUnicodeDecodeError\u001b[0m                        Traceback (most recent call last)",
      "\u001b[1;32m<ipython-input-35-6f905eae7a03>\u001b[0m in \u001b[0;36m<module>\u001b[1;34m()\u001b[0m\n\u001b[0;32m      2\u001b[0m \u001b[1;33m\u001b[0m\u001b[0m\n\u001b[0;32m      3\u001b[0m \u001b[1;31m# read flash.dat to a list of lists\u001b[0m\u001b[1;33m\u001b[0m\u001b[1;33m\u001b[0m\u001b[0m\n\u001b[1;32m----> 4\u001b[1;33m \u001b[0mdatContent\u001b[0m \u001b[1;33m=\u001b[0m \u001b[1;33m[\u001b[0m\u001b[0mi\u001b[0m\u001b[1;33m.\u001b[0m\u001b[0mstrip\u001b[0m\u001b[1;33m(\u001b[0m\u001b[1;33m)\u001b[0m\u001b[1;33m.\u001b[0m\u001b[0msplit\u001b[0m\u001b[1;33m(\u001b[0m\u001b[1;33m)\u001b[0m \u001b[1;32mfor\u001b[0m \u001b[0mi\u001b[0m \u001b[1;32min\u001b[0m \u001b[0mopen\u001b[0m\u001b[1;33m(\u001b[0m\u001b[1;34m\"TQBR_GAZP_5_-_Copy.dat\"\u001b[0m\u001b[1;33m)\u001b[0m\u001b[1;33m.\u001b[0m\u001b[0mreadlines\u001b[0m\u001b[1;33m(\u001b[0m\u001b[1;33m)\u001b[0m\u001b[1;33m]\u001b[0m\u001b[1;33m\u001b[0m\u001b[0m\n\u001b[0m\u001b[0;32m      5\u001b[0m \u001b[1;33m\u001b[0m\u001b[0m\n\u001b[0;32m      6\u001b[0m \u001b[1;31m# write it as a new CSV file\u001b[0m\u001b[1;33m\u001b[0m\u001b[1;33m\u001b[0m\u001b[0m\n",
      "\u001b[1;32mC:\\ProgramData\\Anaconda3\\lib\\encodings\\cp1251.py\u001b[0m in \u001b[0;36mdecode\u001b[1;34m(self, input, final)\u001b[0m\n\u001b[0;32m     21\u001b[0m \u001b[1;32mclass\u001b[0m \u001b[0mIncrementalDecoder\u001b[0m\u001b[1;33m(\u001b[0m\u001b[0mcodecs\u001b[0m\u001b[1;33m.\u001b[0m\u001b[0mIncrementalDecoder\u001b[0m\u001b[1;33m)\u001b[0m\u001b[1;33m:\u001b[0m\u001b[1;33m\u001b[0m\u001b[0m\n\u001b[0;32m     22\u001b[0m     \u001b[1;32mdef\u001b[0m \u001b[0mdecode\u001b[0m\u001b[1;33m(\u001b[0m\u001b[0mself\u001b[0m\u001b[1;33m,\u001b[0m \u001b[0minput\u001b[0m\u001b[1;33m,\u001b[0m \u001b[0mfinal\u001b[0m\u001b[1;33m=\u001b[0m\u001b[1;32mFalse\u001b[0m\u001b[1;33m)\u001b[0m\u001b[1;33m:\u001b[0m\u001b[1;33m\u001b[0m\u001b[0m\n\u001b[1;32m---> 23\u001b[1;33m         \u001b[1;32mreturn\u001b[0m \u001b[0mcodecs\u001b[0m\u001b[1;33m.\u001b[0m\u001b[0mcharmap_decode\u001b[0m\u001b[1;33m(\u001b[0m\u001b[0minput\u001b[0m\u001b[1;33m,\u001b[0m\u001b[0mself\u001b[0m\u001b[1;33m.\u001b[0m\u001b[0merrors\u001b[0m\u001b[1;33m,\u001b[0m\u001b[0mdecoding_table\u001b[0m\u001b[1;33m)\u001b[0m\u001b[1;33m[\u001b[0m\u001b[1;36m0\u001b[0m\u001b[1;33m]\u001b[0m\u001b[1;33m\u001b[0m\u001b[0m\n\u001b[0m\u001b[0;32m     24\u001b[0m \u001b[1;33m\u001b[0m\u001b[0m\n\u001b[0;32m     25\u001b[0m \u001b[1;32mclass\u001b[0m \u001b[0mStreamWriter\u001b[0m\u001b[1;33m(\u001b[0m\u001b[0mCodec\u001b[0m\u001b[1;33m,\u001b[0m\u001b[0mcodecs\u001b[0m\u001b[1;33m.\u001b[0m\u001b[0mStreamWriter\u001b[0m\u001b[1;33m)\u001b[0m\u001b[1;33m:\u001b[0m\u001b[1;33m\u001b[0m\u001b[0m\n",
      "\u001b[1;31mUnicodeDecodeError\u001b[0m: 'charmap' codec can't decode byte 0x98 in position 821: character maps to <undefined>"
     ]
    }
   ],
   "source": [
    "import csv\n",
    "\n",
    "# read flash.dat to a list of lists\n",
    "datContent = [i.strip().split() for i in open(\"TQBR_GAZP_5_-_Copy.dat\").readlines()]\n",
    "\n",
    "# write it as a new CSV file\n",
    "with open(\"TQBR_GAZP_5_-_Copy.dat\", \"wb\") as f:\n",
    "    writer = csv.writer(f)\n",
    "    writer.writerows(datContent)\n"
   ]
  }
 ],
 "metadata": {
  "kernelspec": {
   "display_name": "Python 3",
   "language": "python",
   "name": "python3"
  },
  "language_info": {
   "codemirror_mode": {
    "name": "ipython",
    "version": 3
   },
   "file_extension": ".py",
   "mimetype": "text/x-python",
   "name": "python",
   "nbconvert_exporter": "python",
   "pygments_lexer": "ipython3",
   "version": "3.7.1"
  }
 },
 "nbformat": 4,
 "nbformat_minor": 2
}
